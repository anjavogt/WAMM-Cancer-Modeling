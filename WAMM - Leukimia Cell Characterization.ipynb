{
 "cells": [
  {
   "cell_type": "code",
   "execution_count": 9,
   "id": "bda269b1",
   "metadata": {},
   "outputs": [
    {
     "name": "stdout",
     "output_type": "stream",
     "text": [
      "Found 3581 images belonging to 2 classes.\n",
      "Found 2586 images belonging to 1 classes.\n",
      "{'all': 0, 'hem': 1}\n"
     ]
    }
   ],
   "source": [
    "# We will classify Cell types with different classifiers \n",
    "# Here it would be KNNClassifier\n",
    "\n",
    "import numpy as np\n",
    "import tensorflow as tf\n",
    "from tensorflow.keras.preprocessing.image import ImageDataGenerator\n",
    "\n",
    "import numpy as np\n",
    "import tensorflow as tf\n",
    "from tensorflow.keras.preprocessing.image import ImageDataGenerator\n",
    "\n",
    "# Use raw strings or forward slashes for paths\n",
    "datagen = ImageDataGenerator(rescale=1./255)\n",
    "\n",
    "# X = datagen.flow_from_directory(r\"C:/Users\\Alexi/OneDrive - UW/C-NMC_Leukemia/training_data/fold_0\",\n",
    "#                                         target_size=(224, 224), batch_size=32, class_mode=\"categorical\")\n",
    "\n",
    "X = datagen.flow_from_directory(r\"C:/Users\\Alexi/OneDrive - UW/C-NMC_Leukemia/training_data/fold_1\", class_mode=\"categorical\")\n",
    "\n",
    "y = datagen.flow_from_directory(r\"C:/Users/Alexi/OneDrive - UW/C-NMC_Leukemia/testing_data\", class_mode=\"categorical\")\n",
    "\n",
    "from sklearn.model_selection import train_test_split\n",
    "X_train_list = []\n",
    "y_train_list = []\n",
    "X_test_list = []\n",
    "y_test_list = []\n",
    "\n",
    "# Loop through all batches in the training set\n",
    "for _ in range(len(X)):\n",
    "    X_batch, y_batch = next(X)\n",
    "    X_train_list.append(X_batch)\n",
    "    y_train_list.append(y_batch)\n",
    "\n",
    "# Loop through all batches in the test set\n",
    "for _ in range(len(y)):\n",
    "    X_batch, y_batch = next(y)\n",
    "    X_test_list.append(X_batch)\n",
    "    y_test_list.append(y_batch)\n",
    "\n",
    "# Convert lists to NumPy arrays\n",
    "X_train = np.vstack(X_train_list)\n",
    "y_train = np.vstack(y_train_list)\n",
    "X_test = np.vstack(X_test_list)\n",
    "y_test = np.vstack(y_test_list)\n",
    "\n",
    "# Convert labels to single-class format (from one-hot encoding)\n",
    "y_train = np.argmax(y_train, axis=1)\n",
    "y_test = np.argmax(y_test, axis=1)\n",
    "\n",
    "# Flatten images for easier model processing\n",
    "X_train_flat = X_train.reshape(X_train.shape[0], -1)\n",
    "X_test_flat = X_test.reshape(X_test.shape[0], -1)\n",
    "\n",
    "from sklearn.decomposition import PCA\n",
    "\n",
    "pca = PCA(n_components= 100)  # Adjust 'n_components' based on explained variance preference\n",
    "X_train_flat = pca.fit_transform(X_train_flat)\n",
    "X_test_flat = pca.transform(X_test_flat)\n",
    "\n",
    "# Use train_test_split on extracted data\n",
    "X_train, X_test, y_train, y_test  = train_test_split(X_train_flat, y_train, test_size=0.3)\n",
    "\n",
    "print(X.class_indices)\n"
   ]
  },
  {
   "cell_type": "code",
   "execution_count": 10,
   "id": "a5c984a6",
   "metadata": {},
   "outputs": [
    {
     "name": "stdout",
     "output_type": "stream",
     "text": [
      "Training Score: 0.8994413407821229\n",
      "Testing Score: 0.7925581395348837\n"
     ]
    }
   ],
   "source": [
    "# KNN Classifier applied to classify the flowers \n",
    "from sklearn.neighbors import KNeighborsClassifier\n",
    "from sklearn.preprocessing import StandardScaler\n",
    "\n",
    "scaler = StandardScaler()\n",
    "X_train = scaler.fit_transform(X_train)\n",
    "X_test = scaler.transform(X_test)\n",
    "\n",
    "\n",
    "KNNCL = KNeighborsClassifier(n_neighbors=3) #varry K number of neighbors\n",
    "KNNCL.fit(X_train, y_train)\n",
    "\n",
    "# estimate accuracy for Training and Testing\n",
    "\n",
    "print(\"Training Score: {}\".format(KNNCL.score(X_train, y_train)))\n",
    "print(\"Testing Score: {}\".format(KNNCL.score(X_test, y_test)))"
   ]
  },
  {
   "cell_type": "code",
   "execution_count": 12,
   "id": "db630bc1",
   "metadata": {},
   "outputs": [
    {
     "data": {
      "image/png": "[encoded data removed]",
      "text/plain": [
       "<Figure size 800x500 with 2 Axes>"
      ]
     },
     "metadata": {},
     "output_type": "display_data"
    }
   ],
   "source": [
    "import matplotlib.pyplot as plt\n",
    "from sklearn.metrics import ConfusionMatrixDisplay\n",
    "import numpy as np\n",
    "\n",
    "\n",
    "y_pred = KNNCL.predict(X_test)\n",
    "# Convert labels if necessary\n",
    "if len(y_test.shape) > 1:  # Apply argmax only if more than 1 dimension\n",
    "    y_test_binary = np.argmax(y_test, axis=1)\n",
    "    y_pred_binary = np.argmax(y_pred, axis=1)\n",
    "else:\n",
    "    y_test_binary = y_test  # Already correct format\n",
    "    y_pred_binary = y_pred\n",
    "# Define class labels\n",
    "y_names = [\"Normal\", \"Blast\"]\n",
    "\n",
    "# Plot confusion matrix\n",
    "fig, ax = plt.subplots(figsize=(8, 5))\n",
    "ConfusionMatrixDisplay.from_predictions(y_test_binary, y_pred_binary, ax=ax, display_labels=y_names)\n",
    "\n",
    "ax.set_title(f\"Confusion Matrix for {KNNCL.__class__.__name__} Cell Classification\")\n",
    "plt.show()\n",
    "\n"
   ]
  },
  {
   "cell_type": "code",
   "execution_count": 13,
   "id": "2621e592",
   "metadata": {},
   "outputs": [
    {
     "name": "stdout",
     "output_type": "stream",
     "text": [
      "Found 3527 images belonging to 2 classes.\n",
      "Found 2586 images belonging to 1 classes.\n",
      "{'all': 0, 'hem': 1}\n"
     ]
    }
   ],
   "source": [
    "# We will classify Cell types with different classifiers \n",
    "# Here it would be KNNClassifier\n",
    "\n",
    "import numpy as np\n",
    "import tensorflow as tf\n",
    "from tensorflow.keras.preprocessing.image import ImageDataGenerator\n",
    "\n",
    "import numpy as np\n",
    "import tensorflow as tf\n",
    "from tensorflow.keras.preprocessing.image import ImageDataGenerator\n",
    "\n",
    "# Use raw strings or forward slashes for paths\n",
    "datagen = ImageDataGenerator(rescale=1./255)\n",
    "\n",
    "X = datagen.flow_from_directory(r\"C:/Users\\Alexi/OneDrive - UW/C-NMC_Leukemia/training_data/fold_0\",\n",
    "                                         target_size=(224, 224), batch_size=32, class_mode=\"categorical\")\n",
    "\n",
    "y = datagen.flow_from_directory(r\"C:/Users/Alexi/OneDrive - UW/C-NMC_Leukemia/testing_data\",\n",
    "                                        target_size=(224, 224), batch_size=32, class_mode=\"categorical\")\n",
    "\n",
    "from sklearn.model_selection import train_test_split\n",
    "\n",
    "# Extract one batch at a time from generator\n",
    "X_train, y_train = next(X)  # Fetch a batch\n",
    "X_test, y_test = next(y)  # Fetch a batch\n",
    "\n",
    "# Flatten images for easier model processing\n",
    "X_train_flat = X_train.reshape(X_train.shape[0], -1)\n",
    "X_test_flat = X_test.reshape(X_test.shape[0], -1)\n",
    "\n",
    "# Use train_test_split on extracted data\n",
    "X_train, X_test, y_train, y_test  = train_test_split(X_train_flat, y_train, test_size=0.3)\n",
    "\n",
    "print(X.class_indices)"
   ]
  },
  {
   "cell_type": "code",
   "execution_count": 16,
   "id": "263b4175",
   "metadata": {},
   "outputs": [],
   "source": [
    "from sklearn.model_selection import cross_val_score\n",
    "\n",
    "k_values = [i for i in range (1,15)]\n",
    "scores = []\n",
    "\n",
    "for k in k_values:\n",
    "    KNNCLk = KNeighborsClassifier(n_neighbors=k)\n",
    "    scorescv = cross_val_score(KNNCLk, X_train, y_train,cv=5)\n",
    "    scores.append(scorescv.mean())\n"
   ]
  },
  {
   "cell_type": "code",
   "execution_count": 15,
   "id": "11f63437",
   "metadata": {},
   "outputs": [
    {
     "data": {
      "text/plain": [
       "Text(0, 0.5, 'Accuracy Score')"
      ]
     },
     "execution_count": 15,
     "metadata": {},
     "output_type": "execute_result"
    },
    {
     "data": {
      "image/png": "[encoded data removed]",
      "text/plain": [
       "<Figure size 640x480 with 1 Axes>"
      ]
     },
     "metadata": {},
     "output_type": "display_data"
    }
   ],
   "source": [
    "import matplotlib.pyplot as plt\n",
    "import seaborn as sns\n",
    "\n",
    "sns.lineplot(x = k_values, y = scores, marker = 'o')\n",
    "plt.xlabel(\"K Values\")\n",
    "plt.ylabel(\"Accuracy Score\")\n"
   ]
  },
  {
   "cell_type": "code",
   "execution_count": 17,
   "id": "fb9462e2",
   "metadata": {},
   "outputs": [
    {
     "name": "stdout",
     "output_type": "stream",
     "text": [
      "Optimal k =3 \n"
     ]
    }
   ],
   "source": [
    "kopt = k_values[np.argmax(scores)]\n",
    "\n",
    "print(\"Optimal k ={} \".format(kopt))"
   ]
  },
  {
   "cell_type": "code",
   "execution_count": 18,
   "id": "52d23c03",
   "metadata": {},
   "outputs": [
    {
     "name": "stdout",
     "output_type": "stream",
     "text": [
      "              precision    recall  f1-score   support\n",
      "\n",
      "           0       0.93      0.88      0.90        16\n",
      "           1       0.71      0.83      0.77         6\n",
      "\n",
      "   micro avg       0.86      0.86      0.86        22\n",
      "   macro avg       0.82      0.85      0.84        22\n",
      "weighted avg       0.87      0.86      0.87        22\n",
      " samples avg       0.86      0.86      0.86        22\n",
      "\n",
      "              precision    recall  f1-score   support\n",
      "\n",
      "           0       1.00      0.60      0.75        10\n",
      "           1       0.00      0.00      0.00         0\n",
      "\n",
      "   micro avg       0.60      0.60      0.60        10\n",
      "   macro avg       0.50      0.30      0.38        10\n",
      "weighted avg       1.00      0.60      0.75        10\n",
      " samples avg       0.60      0.60      0.60        10\n",
      "\n"
     ]
    },
    {
     "name": "stderr",
     "output_type": "stream",
     "text": [
      "c:\\Users\\Alexi\\AppData\\Local\\Programs\\Python\\Python312\\Lib\\site-packages\\sklearn\\metrics\\_classification.py:1565: UndefinedMetricWarning: Recall is ill-defined and being set to 0.0 in labels with no true samples. Use `zero_division` parameter to control this behavior.\n",
      "  _warn_prf(average, modifier, f\"{metric.capitalize()} is\", len(result))\n"
     ]
    }
   ],
   "source": [
    "\n",
    "KNNCL = KNeighborsClassifier(n_neighbors=kopt)\n",
    "KNNCL.fit(X_train, y_train)\n",
    "\n",
    "from sklearn.metrics import classification_report\n",
    "\n",
    "y_pred_tr = KNNCL.predict(X_train)\n",
    "y_pred_test = KNNCL.predict(X_test)\n",
    "\n",
    "print(classification_report(y_pred_tr, y_train))\n",
    "print(classification_report(y_pred_test, y_test))"
   ]
  },
  {
   "cell_type": "code",
   "execution_count": null,
   "id": "78823e6f",
   "metadata": {},
   "outputs": [],
   "source": []
  }
 ],
 "metadata": {
  "kernelspec": {
   "display_name": "Python 3",
   "language": "python",
   "name": "python3"
  },
  "language_info": {
   "codemirror_mode": {
    "name": "ipython",
    "version": 3
   },
   "file_extension": ".py",
   "mimetype": "text/x-python",
   "name": "python",
   "nbconvert_exporter": "python",
   "pygments_lexer": "ipython3",
   "version": "3.12.6"
  }
 },
 "nbformat": 4,
 "nbformat_minor": 5
}
